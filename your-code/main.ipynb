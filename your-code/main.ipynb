{
 "cells": [
  {
   "cell_type": "markdown",
   "metadata": {},
   "source": [
    "# Intrduction to NumPy\n",
    "\n",
    "\n",
    "#### 1. Import NumPy under the name np."
   ]
  },
  {
   "cell_type": "code",
   "execution_count": 1,
   "metadata": {},
   "outputs": [],
   "source": [
    "# your code here\n",
    "\n",
    "import numpy as np"
   ]
  },
  {
   "cell_type": "markdown",
   "metadata": {},
   "source": [
    "#### 2. Print your NumPy version."
   ]
  },
  {
   "cell_type": "code",
   "execution_count": 2,
   "metadata": {},
   "outputs": [
    {
     "name": "stdout",
     "output_type": "stream",
     "text": [
      "1.19.2\n"
     ]
    }
   ],
   "source": [
    "# your code here\n",
    "print(np.version.version)"
   ]
  },
  {
   "cell_type": "markdown",
   "metadata": {},
   "source": [
    "#### 3. Generate a 2x3x5 3-dimensional array with random values. Assign the array to variable *a*.\n",
    "**Challenge**: there are at least three easy ways that use numpy to generate random arrays. How many ways can you find?"
   ]
  },
  {
   "cell_type": "code",
   "execution_count": 16,
   "metadata": {},
   "outputs": [
    {
     "name": "stdout",
     "output_type": "stream",
     "text": [
      "[[[0.92233999 0.08018433 0.55086031 0.4942538  0.90026178]\n",
      "  [0.82350235 0.15501897 0.64755835 0.6504808  0.69187869]\n",
      "  [0.17611926 0.42715314 0.64193175 0.72258572 0.93576789]]\n",
      "\n",
      " [[0.3059574  0.57691025 0.71531297 0.09959294 0.05724134]\n",
      "  [0.30048507 0.33384366 0.14347624 0.30239793 0.4764545 ]\n",
      "  [0.21619717 0.22294816 0.65820183 0.68382243 0.03091092]]]\n"
     ]
    }
   ],
   "source": [
    "# Method 1\n",
    "a = np.random.random((2,3,5))\n",
    "print(a)"
   ]
  },
  {
   "cell_type": "code",
   "execution_count": 15,
   "metadata": {},
   "outputs": [
    {
     "name": "stdout",
     "output_type": "stream",
     "text": [
      "[[[0.60720755 0.01215559 0.58854697 0.85756453 0.77092141]\n",
      "  [0.37642042 0.65698286 0.35929285 0.48847163 0.27141379]\n",
      "  [0.25966424 0.00280654 0.43505239 0.73738157 0.52383485]]\n",
      "\n",
      " [[0.81392758 0.42584408 0.49162411 0.34575957 0.12339341]\n",
      "  [0.30248613 0.83356527 0.86626517 0.49386206 0.57896788]\n",
      "  [0.06133624 0.88754837 0.92185995 0.02114531 0.44220027]]]\n"
     ]
    }
   ],
   "source": [
    "# Method 2\n",
    "a2 = np.random.rand(2,3,5)\n",
    "print(a2)"
   ]
  },
  {
   "cell_type": "code",
   "execution_count": 17,
   "metadata": {},
   "outputs": [
    {
     "name": "stdout",
     "output_type": "stream",
     "text": [
      "[[[0.92233999 0.08018433 0.55086031 0.4942538  0.90026178]\n",
      "  [0.82350235 0.15501897 0.64755835 0.6504808  0.69187869]\n",
      "  [0.17611926 0.42715314 0.64193175 0.72258572 0.93576789]]\n",
      "\n",
      " [[0.3059574  0.57691025 0.71531297 0.09959294 0.05724134]\n",
      "  [0.30048507 0.33384366 0.14347624 0.30239793 0.4764545 ]\n",
      "  [0.21619717 0.22294816 0.65820183 0.68382243 0.03091092]]]\n"
     ]
    }
   ],
   "source": [
    "# Method 3\n",
    "a3 = np.empty((2,3,5))\n",
    "print(a3)"
   ]
  },
  {
   "cell_type": "markdown",
   "metadata": {},
   "source": [
    "#### 4. Print *a*.\n"
   ]
  },
  {
   "cell_type": "code",
   "execution_count": 18,
   "metadata": {},
   "outputs": [
    {
     "name": "stdout",
     "output_type": "stream",
     "text": [
      "[[[0.92233999 0.08018433 0.55086031 0.4942538  0.90026178]\n",
      "  [0.82350235 0.15501897 0.64755835 0.6504808  0.69187869]\n",
      "  [0.17611926 0.42715314 0.64193175 0.72258572 0.93576789]]\n",
      "\n",
      " [[0.3059574  0.57691025 0.71531297 0.09959294 0.05724134]\n",
      "  [0.30048507 0.33384366 0.14347624 0.30239793 0.4764545 ]\n",
      "  [0.21619717 0.22294816 0.65820183 0.68382243 0.03091092]]]\n"
     ]
    }
   ],
   "source": [
    "# your code here\n",
    "print(a)"
   ]
  },
  {
   "cell_type": "markdown",
   "metadata": {},
   "source": [
    "#### 5. Create a 5x2x3 3-dimensional array with all values equaling 1. Assign the array to variable *b*."
   ]
  },
  {
   "cell_type": "code",
   "execution_count": 19,
   "metadata": {},
   "outputs": [],
   "source": [
    "# your code here\n",
    "b = np.ones((5,2,3))"
   ]
  },
  {
   "cell_type": "markdown",
   "metadata": {},
   "source": [
    "#### 6. Print *b*.\n"
   ]
  },
  {
   "cell_type": "code",
   "execution_count": 20,
   "metadata": {},
   "outputs": [
    {
     "name": "stdout",
     "output_type": "stream",
     "text": [
      "[[[1. 1. 1.]\n",
      "  [1. 1. 1.]]\n",
      "\n",
      " [[1. 1. 1.]\n",
      "  [1. 1. 1.]]\n",
      "\n",
      " [[1. 1. 1.]\n",
      "  [1. 1. 1.]]\n",
      "\n",
      " [[1. 1. 1.]\n",
      "  [1. 1. 1.]]\n",
      "\n",
      " [[1. 1. 1.]\n",
      "  [1. 1. 1.]]]\n"
     ]
    }
   ],
   "source": [
    "# your code here\n",
    "print(b)"
   ]
  },
  {
   "cell_type": "markdown",
   "metadata": {},
   "source": [
    "#### 7. Do *a* and *b* have the same size? How do you prove that in Python code?"
   ]
  },
  {
   "cell_type": "code",
   "execution_count": 21,
   "metadata": {},
   "outputs": [
    {
     "ename": "ValueError",
     "evalue": "operands could not be broadcast together with shapes (2,3,5) (5,2,3) ",
     "output_type": "error",
     "traceback": [
      "\u001b[1;31m---------------------------------------------------------------------------\u001b[0m",
      "\u001b[1;31mValueError\u001b[0m                                Traceback (most recent call last)",
      "\u001b[1;32m<ipython-input-21-05c2b277dd91>\u001b[0m in \u001b[0;36m<module>\u001b[1;34m\u001b[0m\n\u001b[0;32m      1\u001b[0m \u001b[1;31m# your code here\u001b[0m\u001b[1;33m\u001b[0m\u001b[1;33m\u001b[0m\u001b[1;33m\u001b[0m\u001b[0m\n\u001b[1;32m----> 2\u001b[1;33m \u001b[0mproof\u001b[0m \u001b[1;33m=\u001b[0m \u001b[0mnp\u001b[0m\u001b[1;33m.\u001b[0m\u001b[0mmultiply\u001b[0m\u001b[1;33m(\u001b[0m\u001b[0ma\u001b[0m\u001b[1;33m,\u001b[0m\u001b[0mb\u001b[0m\u001b[1;33m)\u001b[0m\u001b[1;33m\u001b[0m\u001b[1;33m\u001b[0m\u001b[0m\n\u001b[0m\u001b[0;32m      3\u001b[0m \u001b[0mprint\u001b[0m\u001b[1;33m(\u001b[0m\u001b[0mproof\u001b[0m\u001b[1;33m)\u001b[0m\u001b[1;33m\u001b[0m\u001b[1;33m\u001b[0m\u001b[0m\n",
      "\u001b[1;31mValueError\u001b[0m: operands could not be broadcast together with shapes (2,3,5) (5,2,3) "
     ]
    }
   ],
   "source": [
    "# your code here\n",
    "proof = np.multiply(a,b)\n",
    "print(proof)\n",
    "#with the error below it proves they are not the same size."
   ]
  },
  {
   "cell_type": "markdown",
   "metadata": {},
   "source": [
    "#### 8. Are you able to add *a* and *b*? Why or why not?\n"
   ]
  },
  {
   "cell_type": "code",
   "execution_count": null,
   "metadata": {},
   "outputs": [],
   "source": [
    "# your answer here\n",
    "#I am not able to add a and b because they dont have the same shape."
   ]
  },
  {
   "cell_type": "markdown",
   "metadata": {},
   "source": [
    "#### 9. Transpose *b* so that it has the same structure of *a* (i.e. become a 2x3x5 array). Assign the transposed array to variable *c*."
   ]
  },
  {
   "cell_type": "code",
   "execution_count": 22,
   "metadata": {},
   "outputs": [
    {
     "name": "stdout",
     "output_type": "stream",
     "text": [
      "[[[1. 1. 1. 1. 1.]\n",
      "  [1. 1. 1. 1. 1.]\n",
      "  [1. 1. 1. 1. 1.]]\n",
      "\n",
      " [[1. 1. 1. 1. 1.]\n",
      "  [1. 1. 1. 1. 1.]\n",
      "  [1. 1. 1. 1. 1.]]]\n"
     ]
    }
   ],
   "source": [
    "# your code here\n",
    "c = np.reshape(b,(2,3,5))\n",
    "print(c)"
   ]
  },
  {
   "cell_type": "markdown",
   "metadata": {},
   "source": [
    "#### 10. Try to add *a* and *c*. Now it should work. Assign the sum to variable *d*. But why does it work now?"
   ]
  },
  {
   "cell_type": "code",
   "execution_count": 23,
   "metadata": {},
   "outputs": [],
   "source": [
    "# your code/answer here\n",
    "d= np.add(a,c)"
   ]
  },
  {
   "cell_type": "markdown",
   "metadata": {},
   "source": [
    "#### 11. Print *a* and *d*. Notice the difference and relation of the two array in terms of the values? Explain."
   ]
  },
  {
   "cell_type": "code",
   "execution_count": 24,
   "metadata": {},
   "outputs": [
    {
     "name": "stdout",
     "output_type": "stream",
     "text": [
      "[[[0.92233999 0.08018433 0.55086031 0.4942538  0.90026178]\n",
      "  [0.82350235 0.15501897 0.64755835 0.6504808  0.69187869]\n",
      "  [0.17611926 0.42715314 0.64193175 0.72258572 0.93576789]]\n",
      "\n",
      " [[0.3059574  0.57691025 0.71531297 0.09959294 0.05724134]\n",
      "  [0.30048507 0.33384366 0.14347624 0.30239793 0.4764545 ]\n",
      "  [0.21619717 0.22294816 0.65820183 0.68382243 0.03091092]]]\n",
      "[[[1.92233999 1.08018433 1.55086031 1.4942538  1.90026178]\n",
      "  [1.82350235 1.15501897 1.64755835 1.6504808  1.69187869]\n",
      "  [1.17611926 1.42715314 1.64193175 1.72258572 1.93576789]]\n",
      "\n",
      " [[1.3059574  1.57691025 1.71531297 1.09959294 1.05724134]\n",
      "  [1.30048507 1.33384366 1.14347624 1.30239793 1.4764545 ]\n",
      "  [1.21619717 1.22294816 1.65820183 1.68382243 1.03091092]]]\n"
     ]
    }
   ],
   "source": [
    "# your code/answer here\n",
    "print(a)\n",
    "print(d)\n",
    "#Every value of d is has the sum of 1 compared to the value of a in the same position (line,column)"
   ]
  },
  {
   "cell_type": "markdown",
   "metadata": {},
   "source": [
    "#### 12. Multiply *a* and *c*. Assign the result to *e*."
   ]
  },
  {
   "cell_type": "code",
   "execution_count": 25,
   "metadata": {},
   "outputs": [],
   "source": [
    "# your code here\n",
    "e=np.multiply(a,c)"
   ]
  },
  {
   "cell_type": "markdown",
   "metadata": {},
   "source": [
    "#### 13. Does *e* equal to *a*? Why or why not?\n"
   ]
  },
  {
   "cell_type": "code",
   "execution_count": 27,
   "metadata": {},
   "outputs": [
    {
     "name": "stdout",
     "output_type": "stream",
     "text": [
      "[[[0.92233999 0.08018433 0.55086031 0.4942538  0.90026178]\n",
      "  [0.82350235 0.15501897 0.64755835 0.6504808  0.69187869]\n",
      "  [0.17611926 0.42715314 0.64193175 0.72258572 0.93576789]]\n",
      "\n",
      " [[0.3059574  0.57691025 0.71531297 0.09959294 0.05724134]\n",
      "  [0.30048507 0.33384366 0.14347624 0.30239793 0.4764545 ]\n",
      "  [0.21619717 0.22294816 0.65820183 0.68382243 0.03091092]]]\n",
      "[[[0.92233999 0.08018433 0.55086031 0.4942538  0.90026178]\n",
      "  [0.82350235 0.15501897 0.64755835 0.6504808  0.69187869]\n",
      "  [0.17611926 0.42715314 0.64193175 0.72258572 0.93576789]]\n",
      "\n",
      " [[0.3059574  0.57691025 0.71531297 0.09959294 0.05724134]\n",
      "  [0.30048507 0.33384366 0.14347624 0.30239793 0.4764545 ]\n",
      "  [0.21619717 0.22294816 0.65820183 0.68382243 0.03091092]]]\n"
     ]
    },
    {
     "data": {
      "text/plain": [
       "array([[[ True,  True,  True,  True,  True],\n",
       "        [ True,  True,  True,  True,  True],\n",
       "        [ True,  True,  True,  True,  True]],\n",
       "\n",
       "       [[ True,  True,  True,  True,  True],\n",
       "        [ True,  True,  True,  True,  True],\n",
       "        [ True,  True,  True,  True,  True]]])"
      ]
     },
     "execution_count": 27,
     "metadata": {},
     "output_type": "execute_result"
    }
   ],
   "source": [
    "# your code/answer here\n",
    "print(a)\n",
    "print(e)\n",
    "e==a\n",
    "#Since all i did was multiply a with an array that had everything valued as 1 it followed the simple rule of neutral element of multiplication."
   ]
  },
  {
   "cell_type": "markdown",
   "metadata": {},
   "source": [
    "#### 14. Identify the max, min, and mean values in *d*. Assign those values to variables *d_max*, *d_min* and *d_mean*."
   ]
  },
  {
   "cell_type": "code",
   "execution_count": 28,
   "metadata": {},
   "outputs": [],
   "source": [
    "# your code here\n",
    "d_max = np.max(d)\n",
    "d_min = np.min(d)\n",
    "d_mean = np.mean(d)"
   ]
  },
  {
   "cell_type": "markdown",
   "metadata": {},
   "source": [
    "#### 15. Now we want to label the values in *d*. First create an empty array *f* with the same shape (i.e. 2x3x5) as *d* using `np.empty`.\n"
   ]
  },
  {
   "cell_type": "code",
   "execution_count": 29,
   "metadata": {},
   "outputs": [
    {
     "name": "stdout",
     "output_type": "stream",
     "text": [
      "[[[0.92233999 0.08018433 0.55086031 0.4942538  0.90026178]\n",
      "  [0.82350235 0.15501897 0.64755835 0.6504808  0.69187869]\n",
      "  [0.17611926 0.42715314 0.64193175 0.72258572 0.93576789]]\n",
      "\n",
      " [[0.3059574  0.57691025 0.71531297 0.09959294 0.05724134]\n",
      "  [0.30048507 0.33384366 0.14347624 0.30239793 0.4764545 ]\n",
      "  [0.21619717 0.22294816 0.65820183 0.68382243 0.03091092]]]\n"
     ]
    }
   ],
   "source": [
    "# your code here\n",
    "f = np.empty((2,3,5))\n",
    "print(f)"
   ]
  },
  {
   "cell_type": "markdown",
   "metadata": {},
   "source": [
    "#### 16. Populate the values in *f*. \n",
    "\n",
    "For each value in *d*, if it's larger than *d_min* but smaller than *d_mean*, assign 25 to the corresponding value in *f*. If a value in *d* is larger than *d_mean* but smaller than *d_max*, assign 75 to the corresponding value in *f*. If a value equals to *d_mean*, assign 50 to the corresponding value in *f*. Assign 0 to the corresponding value(s) in *f* for *d_min* in *d*. Assign 100 to the corresponding value(s) in *f* for *d_max* in *d*. In the end, f should have only the following values: 0, 25, 50, 75, and 100.\n",
    "\n",
    "**Note**: you don't have to use Numpy in this question."
   ]
  },
  {
   "cell_type": "code",
   "execution_count": 30,
   "metadata": {},
   "outputs": [],
   "source": [
    "# your code here\n",
    "f = np.copy(d)\n",
    "f[f == d_min] = 0\n",
    "f[(f>d_min) & (f<d_mean)] = 25\n",
    "f[(f == d_mean)] = 50\n",
    "f[(f>d_mean) & (f<d_max)] = 75\n",
    "f[f == d_max] = 100"
   ]
  },
  {
   "cell_type": "markdown",
   "metadata": {},
   "source": [
    "#### 17. Print *d* and *f*. Do you have your expected *f*?\n",
    "For instance, if your *d* is:\n",
    "```python\n",
    "[[[1.85836099, 1.67064465, 1.62576044, 1.40243961, 1.88454931],\n",
    "[1.75354326, 1.69403643, 1.36729252, 1.61415071, 1.12104981],\n",
    "[1.72201435, 1.1862918 , 1.87078449, 1.7726778 , 1.88180042]],\n",
    "[[1.44747908, 1.31673383, 1.02000951, 1.52218947, 1.97066381],\n",
    "[1.79129243, 1.74983003, 1.96028037, 1.85166831, 1.65450881],\n",
    "[1.18068344, 1.9587381 , 1.00656599, 1.93402165, 1.73514584]]]\n",
    "```\n",
    "Your *f* should be:\n",
    "```python\n",
    "[[[ 75.,  75.,  75.,  25.,  75.],\n",
    "[ 75.,  75.,  25.,  25.,  25.],\n",
    "[ 75.,  25.,  75.,  75.,  75.]],\n",
    "[[ 25.,  25.,  25.,  25., 100.],\n",
    "[ 75.,  75.,  75.,  75.,  75.],\n",
    "[ 25.,  75.,   0.,  75.,  75.]]]\n",
    "```"
   ]
  },
  {
   "cell_type": "code",
   "execution_count": 31,
   "metadata": {},
   "outputs": [
    {
     "name": "stdout",
     "output_type": "stream",
     "text": [
      "[[[1.92233999 1.08018433 1.55086031 1.4942538  1.90026178]\n",
      "  [1.82350235 1.15501897 1.64755835 1.6504808  1.69187869]\n",
      "  [1.17611926 1.42715314 1.64193175 1.72258572 1.93576789]]\n",
      "\n",
      " [[1.3059574  1.57691025 1.71531297 1.09959294 1.05724134]\n",
      "  [1.30048507 1.33384366 1.14347624 1.30239793 1.4764545 ]\n",
      "  [1.21619717 1.22294816 1.65820183 1.68382243 1.03091092]]]\n",
      "[[[ 75.  25.  75.  75.  75.]\n",
      "  [ 75.  25.  75.  75.  75.]\n",
      "  [ 25.  25.  75.  75. 100.]]\n",
      "\n",
      " [[ 25.  75.  75.  25.  25.]\n",
      "  [ 25.  25.  25.  25.  75.]\n",
      "  [ 25.  25.  75.  75.   0.]]]\n"
     ]
    }
   ],
   "source": [
    "# your code here\n",
    "print (d)\n",
    "print (f)"
   ]
  },
  {
   "cell_type": "markdown",
   "metadata": {},
   "source": [
    "#### 18. Bonus question: instead of using numbers (i.e. 0, 25, 50, 75, and 100), use string values  (\"A\", \"B\", \"C\", \"D\", and \"E\") to label the array elements. For the example above, the expected result is:\n",
    "\n",
    "```python\n",
    "[[[ 'D',  'D',  'D',  'B',  'D'],\n",
    "[ 'D',  'D',  'B',  'B',  'B'],\n",
    "[ 'D',  'B',  'D',  'D',  'D']],\n",
    "[[ 'B',  'B',  'B',  'B',  'E'],\n",
    "[ 'D',  'D',  'D',  'D',  'D'],\n",
    "[ 'B',  'D',   'A',  'D', 'D']]]\n",
    "```\n",
    "**Note**: you don't have to use Numpy in this question."
   ]
  },
  {
   "cell_type": "code",
   "execution_count": 32,
   "metadata": {},
   "outputs": [],
   "source": [
    "# your code here\n",
    "g = np.where(d==d_min, \"A\", d)\n",
    "g = np.where((d>d_min) & (d<d_mean), \"B\", g)\n",
    "g = np.where(d == d_mean, \"C\", g)\n",
    "g = np.where((d>d_mean) & (d<d_max) & (d<d_max), \"D\", g)\n",
    "g = np.where(d == d_max, \"E\", g)"
   ]
  },
  {
   "cell_type": "code",
   "execution_count": 33,
   "metadata": {},
   "outputs": [
    {
     "name": "stdout",
     "output_type": "stream",
     "text": [
      "[[['D' 'B' 'D' 'D' 'D']\n",
      "  ['D' 'B' 'D' 'D' 'D']\n",
      "  ['B' 'B' 'D' 'D' 'E']]\n",
      "\n",
      " [['B' 'D' 'D' 'B' 'B']\n",
      "  ['B' 'B' 'B' 'B' 'D']\n",
      "  ['B' 'B' 'D' 'D' 'A']]]\n"
     ]
    }
   ],
   "source": [
    "print (g)"
   ]
  },
  {
   "cell_type": "code",
   "execution_count": null,
   "metadata": {},
   "outputs": [],
   "source": []
  }
 ],
 "metadata": {
  "kernelspec": {
   "display_name": "Python 3",
   "language": "python",
   "name": "python3"
  },
  "language_info": {
   "codemirror_mode": {
    "name": "ipython",
    "version": 3
   },
   "file_extension": ".py",
   "mimetype": "text/x-python",
   "name": "python",
   "nbconvert_exporter": "python",
   "pygments_lexer": "ipython3",
   "version": "3.8.5"
  }
 },
 "nbformat": 4,
 "nbformat_minor": 2
}
